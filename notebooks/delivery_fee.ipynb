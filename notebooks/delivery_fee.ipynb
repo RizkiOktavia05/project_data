{
 "cells": [
  {
   "cell_type": "markdown",
   "metadata": {},
   "source": [
    "## Question :"
   ]
  },
  {
   "cell_type": "markdown",
   "metadata": {},
   "source": [
    "Berapa rata-rata dan minimal delivery fee restoran bagi tiap customer"
   ]
  },
  {
   "cell_type": "markdown",
   "metadata": {},
   "source": [
    "## Answer :"
   ]
  },
  {
   "cell_type": "markdown",
   "metadata": {},
   "source": [
    "Berdasarkan data set food delivery maka dapat dicari rata-rata dan minimal delivery fee yang harus dikeluarkan customer"
   ]
  },
  {
   "cell_type": "markdown",
   "metadata": {},
   "source": [
    "## Algoritma :"
   ]
  },
  {
   "cell_type": "markdown",
   "metadata": {},
   "source": [
    "1. Menjawab tujuan pertanyaan tersebut melalui suatu bentuk program\n",
    "2. Mengimport library yang akan digunakan \n",
    "3. Mengimport data set food delivery\n",
    "4. Menentukan variabel yang digunakan, yaitu cust_id, delivery_fee\n",
    "5. Menentukan mean dan minimal delivery_fee per cust_id dengan aggregation"
   ]
  },
  {
   "cell_type": "markdown",
   "metadata": {},
   "source": [
    "## 1.Purpose"
   ]
  },
  {
   "cell_type": "markdown",
   "metadata": {},
   "source": [
    "Pertanyaan tersebut mengacu pada ongkos kirim yang dibebankan pada customer. Sehingga akan dicari rata-rata dan juga ongkos kirim minimal berdasarkan data set food delivery yang telah tersedia"
   ]
  },
  {
   "cell_type": "markdown",
   "metadata": {},
   "source": [
    "## 2.Import Library"
   ]
  },
  {
   "cell_type": "code",
   "execution_count": 1,
   "metadata": {},
   "outputs": [],
   "source": [
    "import pandas as pd\n",
    "import numpy as np"
   ]
  },
  {
   "cell_type": "markdown",
   "metadata": {},
   "source": [
    "## 3.Get Data"
   ]
  },
  {
   "cell_type": "code",
   "execution_count": 2,
   "metadata": {},
   "outputs": [],
   "source": [
    "PATH_DATA = '../mydata/'"
   ]
  },
  {
   "cell_type": "code",
   "execution_count": 3,
   "metadata": {},
   "outputs": [],
   "source": [
    "df_csv = pd.read_csv(PATH_DATA+'food_delivery_datasets.csv')"
   ]
  },
  {
   "cell_type": "code",
   "execution_count": 4,
   "metadata": {},
   "outputs": [
    {
     "data": {
      "text/html": [
       "<div>\n",
       "<style scoped>\n",
       "    .dataframe tbody tr th:only-of-type {\n",
       "        vertical-align: middle;\n",
       "    }\n",
       "\n",
       "    .dataframe tbody tr th {\n",
       "        vertical-align: top;\n",
       "    }\n",
       "\n",
       "    .dataframe thead th {\n",
       "        text-align: right;\n",
       "    }\n",
       "</style>\n",
       "<table border=\"1\" class=\"dataframe\">\n",
       "  <thead>\n",
       "    <tr style=\"text-align: right;\">\n",
       "      <th></th>\n",
       "      <th>order_id</th>\n",
       "      <th>voucher_amount</th>\n",
       "      <th>date_time</th>\n",
       "      <th>eta_seconds</th>\n",
       "      <th>food_price</th>\n",
       "      <th>cust_id</th>\n",
       "      <th>rating</th>\n",
       "      <th>delivery_fee</th>\n",
       "      <th>resto_id</th>\n",
       "      <th>status</th>\n",
       "      <th>random_id</th>\n",
       "    </tr>\n",
       "  </thead>\n",
       "  <tbody>\n",
       "    <tr>\n",
       "      <th>0</th>\n",
       "      <td>FOOD-10455</td>\n",
       "      <td>0</td>\n",
       "      <td>2018-08-12T20:35:08.001006</td>\n",
       "      <td>1800</td>\n",
       "      <td>18900</td>\n",
       "      <td>1089034</td>\n",
       "      <td>5.0</td>\n",
       "      <td>4000</td>\n",
       "      <td>742638033</td>\n",
       "      <td>Completed</td>\n",
       "      <td>0.511149</td>\n",
       "    </tr>\n",
       "    <tr>\n",
       "      <th>1</th>\n",
       "      <td>FOOD-10985</td>\n",
       "      <td>0</td>\n",
       "      <td>2018-09-23T17:44:12.243273</td>\n",
       "      <td>2173</td>\n",
       "      <td>149000</td>\n",
       "      <td>180146</td>\n",
       "      <td>5.0</td>\n",
       "      <td>11000</td>\n",
       "      <td>742767245</td>\n",
       "      <td>Completed</td>\n",
       "      <td>0.832936</td>\n",
       "    </tr>\n",
       "    <tr>\n",
       "      <th>2</th>\n",
       "      <td>FOOD-10911</td>\n",
       "      <td>0</td>\n",
       "      <td>2018-09-19T18:08:09.387991</td>\n",
       "      <td>1418</td>\n",
       "      <td>43800</td>\n",
       "      <td>366528</td>\n",
       "      <td>NaN</td>\n",
       "      <td>9000</td>\n",
       "      <td>742618303</td>\n",
       "      <td>Completed</td>\n",
       "      <td>0.828026</td>\n",
       "    </tr>\n",
       "    <tr>\n",
       "      <th>3</th>\n",
       "      <td>FOOD-10932</td>\n",
       "      <td>0</td>\n",
       "      <td>2018-09-21T01:24:35.272499</td>\n",
       "      <td>1903</td>\n",
       "      <td>39900</td>\n",
       "      <td>511038</td>\n",
       "      <td>5.0</td>\n",
       "      <td>14000</td>\n",
       "      <td>742541172</td>\n",
       "      <td>Completed</td>\n",
       "      <td>0.239377</td>\n",
       "    </tr>\n",
       "    <tr>\n",
       "      <th>4</th>\n",
       "      <td>FOOD-10961</td>\n",
       "      <td>0</td>\n",
       "      <td>2018-09-22T17:57:45.523161</td>\n",
       "      <td>1716</td>\n",
       "      <td>77700</td>\n",
       "      <td>1220358</td>\n",
       "      <td>NaN</td>\n",
       "      <td>4000</td>\n",
       "      <td>742604875</td>\n",
       "      <td>Completed</td>\n",
       "      <td>0.995587</td>\n",
       "    </tr>\n",
       "    <tr>\n",
       "      <th>...</th>\n",
       "      <td>...</td>\n",
       "      <td>...</td>\n",
       "      <td>...</td>\n",
       "      <td>...</td>\n",
       "      <td>...</td>\n",
       "      <td>...</td>\n",
       "      <td>...</td>\n",
       "      <td>...</td>\n",
       "      <td>...</td>\n",
       "      <td>...</td>\n",
       "      <td>...</td>\n",
       "    </tr>\n",
       "    <tr>\n",
       "      <th>1071</th>\n",
       "      <td>FOOD-10921</td>\n",
       "      <td>0</td>\n",
       "      <td>2018-09-20T15:01:52.152828</td>\n",
       "      <td>900</td>\n",
       "      <td>103200</td>\n",
       "      <td>1296335</td>\n",
       "      <td>5.0</td>\n",
       "      <td>4000</td>\n",
       "      <td>742742150</td>\n",
       "      <td>Completed</td>\n",
       "      <td>0.248328</td>\n",
       "    </tr>\n",
       "    <tr>\n",
       "      <th>1072</th>\n",
       "      <td>FOOD-10265</td>\n",
       "      <td>5000</td>\n",
       "      <td>2018-07-26T14:43:23.655294</td>\n",
       "      <td>1579</td>\n",
       "      <td>145700</td>\n",
       "      <td>1135466</td>\n",
       "      <td>5.0</td>\n",
       "      <td>7000</td>\n",
       "      <td>742566851</td>\n",
       "      <td>Completed</td>\n",
       "      <td>0.268251</td>\n",
       "    </tr>\n",
       "    <tr>\n",
       "      <th>1073</th>\n",
       "      <td>FOOD-10534</td>\n",
       "      <td>0</td>\n",
       "      <td>2018-08-21T20:10:59.283185</td>\n",
       "      <td>2606</td>\n",
       "      <td>177200</td>\n",
       "      <td>1383625</td>\n",
       "      <td>NaN</td>\n",
       "      <td>15000</td>\n",
       "      <td>742571888</td>\n",
       "      <td>Completed</td>\n",
       "      <td>0.132528</td>\n",
       "    </tr>\n",
       "    <tr>\n",
       "      <th>1074</th>\n",
       "      <td>FOOD-10158</td>\n",
       "      <td>0</td>\n",
       "      <td>2018-07-16T14:42:23.214427</td>\n",
       "      <td>2428</td>\n",
       "      <td>49300</td>\n",
       "      <td>1094787</td>\n",
       "      <td>5.0</td>\n",
       "      <td>9000</td>\n",
       "      <td>742725064</td>\n",
       "      <td>Completed</td>\n",
       "      <td>0.167946</td>\n",
       "    </tr>\n",
       "    <tr>\n",
       "      <th>1075</th>\n",
       "      <td>FOOD-10770</td>\n",
       "      <td>0</td>\n",
       "      <td>2018-09-11T14:18:19.494258</td>\n",
       "      <td>1547</td>\n",
       "      <td>43000</td>\n",
       "      <td>1010922</td>\n",
       "      <td>5.0</td>\n",
       "      <td>9000</td>\n",
       "      <td>742594499</td>\n",
       "      <td>Completed</td>\n",
       "      <td>0.358051</td>\n",
       "    </tr>\n",
       "  </tbody>\n",
       "</table>\n",
       "<p>1076 rows × 11 columns</p>\n",
       "</div>"
      ],
      "text/plain": [
       "        order_id  voucher_amount                   date_time  eta_seconds  \\\n",
       "0     FOOD-10455               0  2018-08-12T20:35:08.001006         1800   \n",
       "1     FOOD-10985               0  2018-09-23T17:44:12.243273         2173   \n",
       "2     FOOD-10911               0  2018-09-19T18:08:09.387991         1418   \n",
       "3     FOOD-10932               0  2018-09-21T01:24:35.272499         1903   \n",
       "4     FOOD-10961               0  2018-09-22T17:57:45.523161         1716   \n",
       "...          ...             ...                         ...          ...   \n",
       "1071  FOOD-10921               0  2018-09-20T15:01:52.152828          900   \n",
       "1072  FOOD-10265            5000  2018-07-26T14:43:23.655294         1579   \n",
       "1073  FOOD-10534               0  2018-08-21T20:10:59.283185         2606   \n",
       "1074  FOOD-10158               0  2018-07-16T14:42:23.214427         2428   \n",
       "1075  FOOD-10770               0  2018-09-11T14:18:19.494258         1547   \n",
       "\n",
       "      food_price  cust_id  rating  delivery_fee   resto_id     status  \\\n",
       "0          18900  1089034     5.0          4000  742638033  Completed   \n",
       "1         149000   180146     5.0         11000  742767245  Completed   \n",
       "2          43800   366528     NaN          9000  742618303  Completed   \n",
       "3          39900   511038     5.0         14000  742541172  Completed   \n",
       "4          77700  1220358     NaN          4000  742604875  Completed   \n",
       "...          ...      ...     ...           ...        ...        ...   \n",
       "1071      103200  1296335     5.0          4000  742742150  Completed   \n",
       "1072      145700  1135466     5.0          7000  742566851  Completed   \n",
       "1073      177200  1383625     NaN         15000  742571888  Completed   \n",
       "1074       49300  1094787     5.0          9000  742725064  Completed   \n",
       "1075       43000  1010922     5.0          9000  742594499  Completed   \n",
       "\n",
       "      random_id  \n",
       "0      0.511149  \n",
       "1      0.832936  \n",
       "2      0.828026  \n",
       "3      0.239377  \n",
       "4      0.995587  \n",
       "...         ...  \n",
       "1071   0.248328  \n",
       "1072   0.268251  \n",
       "1073   0.132528  \n",
       "1074   0.167946  \n",
       "1075   0.358051  \n",
       "\n",
       "[1076 rows x 11 columns]"
      ]
     },
     "execution_count": 4,
     "metadata": {},
     "output_type": "execute_result"
    }
   ],
   "source": [
    "df_csv"
   ]
  },
  {
   "cell_type": "code",
   "execution_count": 5,
   "metadata": {},
   "outputs": [
    {
     "data": {
      "text/html": [
       "<div>\n",
       "<style scoped>\n",
       "    .dataframe tbody tr th:only-of-type {\n",
       "        vertical-align: middle;\n",
       "    }\n",
       "\n",
       "    .dataframe tbody tr th {\n",
       "        vertical-align: top;\n",
       "    }\n",
       "\n",
       "    .dataframe thead th {\n",
       "        text-align: right;\n",
       "    }\n",
       "</style>\n",
       "<table border=\"1\" class=\"dataframe\">\n",
       "  <thead>\n",
       "    <tr style=\"text-align: right;\">\n",
       "      <th></th>\n",
       "      <th>order_id</th>\n",
       "      <th>voucher_amount</th>\n",
       "      <th>date_time</th>\n",
       "      <th>eta_seconds</th>\n",
       "      <th>food_price</th>\n",
       "      <th>cust_id</th>\n",
       "      <th>rating</th>\n",
       "      <th>delivery_fee</th>\n",
       "      <th>resto_id</th>\n",
       "      <th>status</th>\n",
       "      <th>random_id</th>\n",
       "    </tr>\n",
       "  </thead>\n",
       "  <tbody>\n",
       "    <tr>\n",
       "      <th>1027</th>\n",
       "      <td>FOOD-10026</td>\n",
       "      <td>0</td>\n",
       "      <td>2018-07-03T18:11:16.851186</td>\n",
       "      <td>1622</td>\n",
       "      <td>107500</td>\n",
       "      <td>1351793</td>\n",
       "      <td>5.0</td>\n",
       "      <td>13000</td>\n",
       "      <td>742539606</td>\n",
       "      <td>Completed</td>\n",
       "      <td>0.800681</td>\n",
       "    </tr>\n",
       "    <tr>\n",
       "      <th>550</th>\n",
       "      <td>FOOD-10091</td>\n",
       "      <td>0</td>\n",
       "      <td>2018-07-10T10:25:03.806353</td>\n",
       "      <td>3078</td>\n",
       "      <td>35100</td>\n",
       "      <td>1347550</td>\n",
       "      <td>5.0</td>\n",
       "      <td>8000</td>\n",
       "      <td>742675191</td>\n",
       "      <td>Completed</td>\n",
       "      <td>0.957514</td>\n",
       "    </tr>\n",
       "    <tr>\n",
       "      <th>195</th>\n",
       "      <td>FOOD-10121</td>\n",
       "      <td>0</td>\n",
       "      <td>2018-07-12T12:30:31.465527</td>\n",
       "      <td>846</td>\n",
       "      <td>33300</td>\n",
       "      <td>854144</td>\n",
       "      <td>5.0</td>\n",
       "      <td>2000</td>\n",
       "      <td>742528179</td>\n",
       "      <td>Completed</td>\n",
       "      <td>0.884955</td>\n",
       "    </tr>\n",
       "    <tr>\n",
       "      <th>486</th>\n",
       "      <td>FOOD-10503</td>\n",
       "      <td>0</td>\n",
       "      <td>2018-08-18T15:13:45.414424</td>\n",
       "      <td>3100</td>\n",
       "      <td>56300</td>\n",
       "      <td>1094787</td>\n",
       "      <td>5.0</td>\n",
       "      <td>4000</td>\n",
       "      <td>742758916</td>\n",
       "      <td>Completed</td>\n",
       "      <td>0.815216</td>\n",
       "    </tr>\n",
       "    <tr>\n",
       "      <th>1008</th>\n",
       "      <td>FOOD-10863</td>\n",
       "      <td>0</td>\n",
       "      <td>2018-09-16T18:04:29.548916</td>\n",
       "      <td>1790</td>\n",
       "      <td>62400</td>\n",
       "      <td>1319474</td>\n",
       "      <td>5.0</td>\n",
       "      <td>10000</td>\n",
       "      <td>742531018</td>\n",
       "      <td>Completed</td>\n",
       "      <td>0.886628</td>\n",
       "    </tr>\n",
       "    <tr>\n",
       "      <th>929</th>\n",
       "      <td>FOOD-10352</td>\n",
       "      <td>0</td>\n",
       "      <td>2018-08-03T20:22:08.328983</td>\n",
       "      <td>920</td>\n",
       "      <td>30500</td>\n",
       "      <td>884440</td>\n",
       "      <td>5.0</td>\n",
       "      <td>4000</td>\n",
       "      <td>742549466</td>\n",
       "      <td>Completed</td>\n",
       "      <td>0.539374</td>\n",
       "    </tr>\n",
       "    <tr>\n",
       "      <th>530</th>\n",
       "      <td>FOOD-10223</td>\n",
       "      <td>5000</td>\n",
       "      <td>2018-07-22T13:10:45.480457</td>\n",
       "      <td>2341</td>\n",
       "      <td>63000</td>\n",
       "      <td>1089034</td>\n",
       "      <td>5.0</td>\n",
       "      <td>3000</td>\n",
       "      <td>200005639</td>\n",
       "      <td>Completed</td>\n",
       "      <td>0.228238</td>\n",
       "    </tr>\n",
       "    <tr>\n",
       "      <th>68</th>\n",
       "      <td>FOOD-10764</td>\n",
       "      <td>0</td>\n",
       "      <td>2018-09-10T20:59:45.659483</td>\n",
       "      <td>3198</td>\n",
       "      <td>155100</td>\n",
       "      <td>1379865</td>\n",
       "      <td>NaN</td>\n",
       "      <td>10000</td>\n",
       "      <td>742735098</td>\n",
       "      <td>Completed</td>\n",
       "      <td>0.136865</td>\n",
       "    </tr>\n",
       "    <tr>\n",
       "      <th>994</th>\n",
       "      <td>FOOD-10424</td>\n",
       "      <td>0</td>\n",
       "      <td>2018-08-10T19:37:13.988449</td>\n",
       "      <td>1918</td>\n",
       "      <td>73100</td>\n",
       "      <td>616763</td>\n",
       "      <td>5.0</td>\n",
       "      <td>5000</td>\n",
       "      <td>742559783</td>\n",
       "      <td>Completed</td>\n",
       "      <td>0.401823</td>\n",
       "    </tr>\n",
       "    <tr>\n",
       "      <th>817</th>\n",
       "      <td>FOOD-10136</td>\n",
       "      <td>0</td>\n",
       "      <td>2018-07-14T16:03:13.336066</td>\n",
       "      <td>1384</td>\n",
       "      <td>72100</td>\n",
       "      <td>410472</td>\n",
       "      <td>NaN</td>\n",
       "      <td>25000</td>\n",
       "      <td>742591683</td>\n",
       "      <td>Cancelled</td>\n",
       "      <td>0.869667</td>\n",
       "    </tr>\n",
       "    <tr>\n",
       "      <th>280</th>\n",
       "      <td>FOOD-10006</td>\n",
       "      <td>3000</td>\n",
       "      <td>2018-07-01T17:19:33.935851</td>\n",
       "      <td>1269</td>\n",
       "      <td>33300</td>\n",
       "      <td>316834</td>\n",
       "      <td>5.0</td>\n",
       "      <td>10000</td>\n",
       "      <td>742554025</td>\n",
       "      <td>Completed</td>\n",
       "      <td>0.216188</td>\n",
       "    </tr>\n",
       "    <tr>\n",
       "      <th>980</th>\n",
       "      <td>FOOD-10829</td>\n",
       "      <td>15000</td>\n",
       "      <td>2018-09-15T13:21:28.741573</td>\n",
       "      <td>1056</td>\n",
       "      <td>39200</td>\n",
       "      <td>82690</td>\n",
       "      <td>5.0</td>\n",
       "      <td>0</td>\n",
       "      <td>742710437</td>\n",
       "      <td>Completed</td>\n",
       "      <td>0.978142</td>\n",
       "    </tr>\n",
       "    <tr>\n",
       "      <th>476</th>\n",
       "      <td>FOOD-10240</td>\n",
       "      <td>6000</td>\n",
       "      <td>2018-07-23T17:55:41.060742</td>\n",
       "      <td>1627</td>\n",
       "      <td>40400</td>\n",
       "      <td>616763</td>\n",
       "      <td>5.0</td>\n",
       "      <td>0</td>\n",
       "      <td>742595557</td>\n",
       "      <td>Completed</td>\n",
       "      <td>0.478615</td>\n",
       "    </tr>\n",
       "    <tr>\n",
       "      <th>544</th>\n",
       "      <td>FOOD-10059</td>\n",
       "      <td>3000</td>\n",
       "      <td>2018-07-06T19:33:16.782827</td>\n",
       "      <td>86</td>\n",
       "      <td>214700</td>\n",
       "      <td>1472725</td>\n",
       "      <td>NaN</td>\n",
       "      <td>13000</td>\n",
       "      <td>742596786</td>\n",
       "      <td>Cancelled</td>\n",
       "      <td>0.285282</td>\n",
       "    </tr>\n",
       "    <tr>\n",
       "      <th>1036</th>\n",
       "      <td>FOOD-10763</td>\n",
       "      <td>0</td>\n",
       "      <td>2018-09-10T20:46:40.632116</td>\n",
       "      <td>1436</td>\n",
       "      <td>39800</td>\n",
       "      <td>357568</td>\n",
       "      <td>5.0</td>\n",
       "      <td>9000</td>\n",
       "      <td>742627192</td>\n",
       "      <td>Completed</td>\n",
       "      <td>0.298974</td>\n",
       "    </tr>\n",
       "    <tr>\n",
       "      <th>676</th>\n",
       "      <td>FOOD-10350</td>\n",
       "      <td>0</td>\n",
       "      <td>2018-08-03T19:58:58.983436</td>\n",
       "      <td>1590</td>\n",
       "      <td>28700</td>\n",
       "      <td>943758</td>\n",
       "      <td>5.0</td>\n",
       "      <td>9000</td>\n",
       "      <td>742632178</td>\n",
       "      <td>Completed</td>\n",
       "      <td>0.316932</td>\n",
       "    </tr>\n",
       "    <tr>\n",
       "      <th>55</th>\n",
       "      <td>FOOD-10109</td>\n",
       "      <td>0</td>\n",
       "      <td>2018-07-11T12:49:00.138757</td>\n",
       "      <td>60</td>\n",
       "      <td>27500</td>\n",
       "      <td>1284060</td>\n",
       "      <td>NaN</td>\n",
       "      <td>2000</td>\n",
       "      <td>742753560</td>\n",
       "      <td>Cancelled</td>\n",
       "      <td>0.376058</td>\n",
       "    </tr>\n",
       "    <tr>\n",
       "      <th>448</th>\n",
       "      <td>FOOD-10721</td>\n",
       "      <td>0</td>\n",
       "      <td>2018-09-07T16:27:51.678802</td>\n",
       "      <td>461</td>\n",
       "      <td>48300</td>\n",
       "      <td>366528</td>\n",
       "      <td>NaN</td>\n",
       "      <td>18000</td>\n",
       "      <td>200009033</td>\n",
       "      <td>Cancelled</td>\n",
       "      <td>0.969484</td>\n",
       "    </tr>\n",
       "    <tr>\n",
       "      <th>429</th>\n",
       "      <td>FOOD-10746</td>\n",
       "      <td>0</td>\n",
       "      <td>2018-09-09T14:57:35.449857</td>\n",
       "      <td>1903</td>\n",
       "      <td>71200</td>\n",
       "      <td>1479204</td>\n",
       "      <td>NaN</td>\n",
       "      <td>4000</td>\n",
       "      <td>742531591</td>\n",
       "      <td>Completed</td>\n",
       "      <td>0.518762</td>\n",
       "    </tr>\n",
       "    <tr>\n",
       "      <th>276</th>\n",
       "      <td>FOOD-10461</td>\n",
       "      <td>0</td>\n",
       "      <td>2018-08-13T15:06:56.896798</td>\n",
       "      <td>2151</td>\n",
       "      <td>147800</td>\n",
       "      <td>1360716</td>\n",
       "      <td>5.0</td>\n",
       "      <td>11000</td>\n",
       "      <td>742743527</td>\n",
       "      <td>Completed</td>\n",
       "      <td>0.833032</td>\n",
       "    </tr>\n",
       "  </tbody>\n",
       "</table>\n",
       "</div>"
      ],
      "text/plain": [
       "        order_id  voucher_amount                   date_time  eta_seconds  \\\n",
       "1027  FOOD-10026               0  2018-07-03T18:11:16.851186         1622   \n",
       "550   FOOD-10091               0  2018-07-10T10:25:03.806353         3078   \n",
       "195   FOOD-10121               0  2018-07-12T12:30:31.465527          846   \n",
       "486   FOOD-10503               0  2018-08-18T15:13:45.414424         3100   \n",
       "1008  FOOD-10863               0  2018-09-16T18:04:29.548916         1790   \n",
       "929   FOOD-10352               0  2018-08-03T20:22:08.328983          920   \n",
       "530   FOOD-10223            5000  2018-07-22T13:10:45.480457         2341   \n",
       "68    FOOD-10764               0  2018-09-10T20:59:45.659483         3198   \n",
       "994   FOOD-10424               0  2018-08-10T19:37:13.988449         1918   \n",
       "817   FOOD-10136               0  2018-07-14T16:03:13.336066         1384   \n",
       "280   FOOD-10006            3000  2018-07-01T17:19:33.935851         1269   \n",
       "980   FOOD-10829           15000  2018-09-15T13:21:28.741573         1056   \n",
       "476   FOOD-10240            6000  2018-07-23T17:55:41.060742         1627   \n",
       "544   FOOD-10059            3000  2018-07-06T19:33:16.782827           86   \n",
       "1036  FOOD-10763               0  2018-09-10T20:46:40.632116         1436   \n",
       "676   FOOD-10350               0  2018-08-03T19:58:58.983436         1590   \n",
       "55    FOOD-10109               0  2018-07-11T12:49:00.138757           60   \n",
       "448   FOOD-10721               0  2018-09-07T16:27:51.678802          461   \n",
       "429   FOOD-10746               0  2018-09-09T14:57:35.449857         1903   \n",
       "276   FOOD-10461               0  2018-08-13T15:06:56.896798         2151   \n",
       "\n",
       "      food_price  cust_id  rating  delivery_fee   resto_id     status  \\\n",
       "1027      107500  1351793     5.0         13000  742539606  Completed   \n",
       "550        35100  1347550     5.0          8000  742675191  Completed   \n",
       "195        33300   854144     5.0          2000  742528179  Completed   \n",
       "486        56300  1094787     5.0          4000  742758916  Completed   \n",
       "1008       62400  1319474     5.0         10000  742531018  Completed   \n",
       "929        30500   884440     5.0          4000  742549466  Completed   \n",
       "530        63000  1089034     5.0          3000  200005639  Completed   \n",
       "68        155100  1379865     NaN         10000  742735098  Completed   \n",
       "994        73100   616763     5.0          5000  742559783  Completed   \n",
       "817        72100   410472     NaN         25000  742591683  Cancelled   \n",
       "280        33300   316834     5.0         10000  742554025  Completed   \n",
       "980        39200    82690     5.0             0  742710437  Completed   \n",
       "476        40400   616763     5.0             0  742595557  Completed   \n",
       "544       214700  1472725     NaN         13000  742596786  Cancelled   \n",
       "1036       39800   357568     5.0          9000  742627192  Completed   \n",
       "676        28700   943758     5.0          9000  742632178  Completed   \n",
       "55         27500  1284060     NaN          2000  742753560  Cancelled   \n",
       "448        48300   366528     NaN         18000  200009033  Cancelled   \n",
       "429        71200  1479204     NaN          4000  742531591  Completed   \n",
       "276       147800  1360716     5.0         11000  742743527  Completed   \n",
       "\n",
       "      random_id  \n",
       "1027   0.800681  \n",
       "550    0.957514  \n",
       "195    0.884955  \n",
       "486    0.815216  \n",
       "1008   0.886628  \n",
       "929    0.539374  \n",
       "530    0.228238  \n",
       "68     0.136865  \n",
       "994    0.401823  \n",
       "817    0.869667  \n",
       "280    0.216188  \n",
       "980    0.978142  \n",
       "476    0.478615  \n",
       "544    0.285282  \n",
       "1036   0.298974  \n",
       "676    0.316932  \n",
       "55     0.376058  \n",
       "448    0.969484  \n",
       "429    0.518762  \n",
       "276    0.833032  "
      ]
     },
     "execution_count": 5,
     "metadata": {},
     "output_type": "execute_result"
    }
   ],
   "source": [
    "## mengambil sampel data sebanyak 20 transaksi\n",
    "df_csv.sample(20)"
   ]
  },
  {
   "cell_type": "code",
   "execution_count": 6,
   "metadata": {},
   "outputs": [
    {
     "data": {
      "text/plain": [
       "order_id                          FOOD-11076\n",
       "voucher_amount                         25000\n",
       "date_time         2018-09-30T20:17:40.796955\n",
       "eta_seconds                             6082\n",
       "food_price                            448500\n",
       "cust_id                              1548571\n",
       "rating                                     5\n",
       "delivery_fee                           44000\n",
       "resto_id                           742814735\n",
       "status                             Completed\n",
       "random_id                           0.999124\n",
       "dtype: object"
      ]
     },
     "execution_count": 6,
     "metadata": {},
     "output_type": "execute_result"
    }
   ],
   "source": [
    "df_csv.max()"
   ]
  },
  {
   "cell_type": "markdown",
   "metadata": {},
   "source": [
    "Berdasarkan output df_csv.max() diatas, maka diketahui bahwa transaksi dengan delivery_fee 44000 (paling mahal) berstatus 'Completed'."
   ]
  },
  {
   "cell_type": "code",
   "execution_count": 7,
   "metadata": {},
   "outputs": [
    {
     "data": {
      "text/plain": [
       "order_id                          FOOD-10001\n",
       "voucher_amount                             0\n",
       "date_time         2018-07-01T11:36:10.581264\n",
       "eta_seconds                                2\n",
       "food_price                             12900\n",
       "cust_id                                22895\n",
       "rating                                     1\n",
       "delivery_fee                               0\n",
       "resto_id                           200000639\n",
       "status                             Cancelled\n",
       "random_id                          0.0016161\n",
       "dtype: object"
      ]
     },
     "execution_count": 7,
     "metadata": {},
     "output_type": "execute_result"
    }
   ],
   "source": [
    "df_csv.min()"
   ]
  },
  {
   "cell_type": "markdown",
   "metadata": {},
   "source": [
    "Berdasarkan output df_csv.min() diatas, maka diketahui bahwa tarnsaksi dengan delivery_fee 0 (free ongkir) berstatus 'Cancelled'."
   ]
  },
  {
   "cell_type": "markdown",
   "metadata": {},
   "source": [
    "## 4.Determine Variable"
   ]
  },
  {
   "cell_type": "code",
   "execution_count": 8,
   "metadata": {},
   "outputs": [
    {
     "data": {
      "text/html": [
       "<div>\n",
       "<style scoped>\n",
       "    .dataframe tbody tr th:only-of-type {\n",
       "        vertical-align: middle;\n",
       "    }\n",
       "\n",
       "    .dataframe tbody tr th {\n",
       "        vertical-align: top;\n",
       "    }\n",
       "\n",
       "    .dataframe thead th {\n",
       "        text-align: right;\n",
       "    }\n",
       "</style>\n",
       "<table border=\"1\" class=\"dataframe\">\n",
       "  <thead>\n",
       "    <tr style=\"text-align: right;\">\n",
       "      <th></th>\n",
       "      <th>cust_id</th>\n",
       "      <th>delivery_fee</th>\n",
       "    </tr>\n",
       "  </thead>\n",
       "  <tbody>\n",
       "    <tr>\n",
       "      <th>0</th>\n",
       "      <td>1089034</td>\n",
       "      <td>4000</td>\n",
       "    </tr>\n",
       "    <tr>\n",
       "      <th>1</th>\n",
       "      <td>180146</td>\n",
       "      <td>11000</td>\n",
       "    </tr>\n",
       "    <tr>\n",
       "      <th>2</th>\n",
       "      <td>366528</td>\n",
       "      <td>9000</td>\n",
       "    </tr>\n",
       "    <tr>\n",
       "      <th>3</th>\n",
       "      <td>511038</td>\n",
       "      <td>14000</td>\n",
       "    </tr>\n",
       "    <tr>\n",
       "      <th>4</th>\n",
       "      <td>1220358</td>\n",
       "      <td>4000</td>\n",
       "    </tr>\n",
       "    <tr>\n",
       "      <th>...</th>\n",
       "      <td>...</td>\n",
       "      <td>...</td>\n",
       "    </tr>\n",
       "    <tr>\n",
       "      <th>1071</th>\n",
       "      <td>1296335</td>\n",
       "      <td>4000</td>\n",
       "    </tr>\n",
       "    <tr>\n",
       "      <th>1072</th>\n",
       "      <td>1135466</td>\n",
       "      <td>7000</td>\n",
       "    </tr>\n",
       "    <tr>\n",
       "      <th>1073</th>\n",
       "      <td>1383625</td>\n",
       "      <td>15000</td>\n",
       "    </tr>\n",
       "    <tr>\n",
       "      <th>1074</th>\n",
       "      <td>1094787</td>\n",
       "      <td>9000</td>\n",
       "    </tr>\n",
       "    <tr>\n",
       "      <th>1075</th>\n",
       "      <td>1010922</td>\n",
       "      <td>9000</td>\n",
       "    </tr>\n",
       "  </tbody>\n",
       "</table>\n",
       "<p>1076 rows × 2 columns</p>\n",
       "</div>"
      ],
      "text/plain": [
       "      cust_id  delivery_fee\n",
       "0     1089034          4000\n",
       "1      180146         11000\n",
       "2      366528          9000\n",
       "3      511038         14000\n",
       "4     1220358          4000\n",
       "...       ...           ...\n",
       "1071  1296335          4000\n",
       "1072  1135466          7000\n",
       "1073  1383625         15000\n",
       "1074  1094787          9000\n",
       "1075  1010922          9000\n",
       "\n",
       "[1076 rows x 2 columns]"
      ]
     },
     "execution_count": 8,
     "metadata": {},
     "output_type": "execute_result"
    }
   ],
   "source": [
    "## variabel yang digunakan adalah cust_id dan delivery_fee\n",
    "df_csv[['cust_id','delivery_fee']]"
   ]
  },
  {
   "cell_type": "markdown",
   "metadata": {},
   "source": [
    "Data diatas merupakan data dengan kolom yang menyatakan cust_id dan juga delivery_fee yang diperoleh berdasarkan data set food delivery."
   ]
  },
  {
   "cell_type": "markdown",
   "metadata": {},
   "source": [
    "#### Delivery Fee for Each Order"
   ]
  },
  {
   "cell_type": "code",
   "execution_count": 9,
   "metadata": {},
   "outputs": [
    {
     "data": {
      "text/html": [
       "<div>\n",
       "<style scoped>\n",
       "    .dataframe tbody tr th:only-of-type {\n",
       "        vertical-align: middle;\n",
       "    }\n",
       "\n",
       "    .dataframe tbody tr th {\n",
       "        vertical-align: top;\n",
       "    }\n",
       "\n",
       "    .dataframe thead th {\n",
       "        text-align: right;\n",
       "    }\n",
       "</style>\n",
       "<table border=\"1\" class=\"dataframe\">\n",
       "  <thead>\n",
       "    <tr style=\"text-align: right;\">\n",
       "      <th></th>\n",
       "      <th>delivery_fee</th>\n",
       "    </tr>\n",
       "  </thead>\n",
       "  <tbody>\n",
       "    <tr>\n",
       "      <th>0</th>\n",
       "      <td>4000</td>\n",
       "    </tr>\n",
       "    <tr>\n",
       "      <th>1</th>\n",
       "      <td>11000</td>\n",
       "    </tr>\n",
       "    <tr>\n",
       "      <th>2</th>\n",
       "      <td>9000</td>\n",
       "    </tr>\n",
       "    <tr>\n",
       "      <th>3</th>\n",
       "      <td>14000</td>\n",
       "    </tr>\n",
       "    <tr>\n",
       "      <th>4</th>\n",
       "      <td>4000</td>\n",
       "    </tr>\n",
       "    <tr>\n",
       "      <th>...</th>\n",
       "      <td>...</td>\n",
       "    </tr>\n",
       "    <tr>\n",
       "      <th>1071</th>\n",
       "      <td>4000</td>\n",
       "    </tr>\n",
       "    <tr>\n",
       "      <th>1072</th>\n",
       "      <td>7000</td>\n",
       "    </tr>\n",
       "    <tr>\n",
       "      <th>1073</th>\n",
       "      <td>15000</td>\n",
       "    </tr>\n",
       "    <tr>\n",
       "      <th>1074</th>\n",
       "      <td>9000</td>\n",
       "    </tr>\n",
       "    <tr>\n",
       "      <th>1075</th>\n",
       "      <td>9000</td>\n",
       "    </tr>\n",
       "  </tbody>\n",
       "</table>\n",
       "<p>1076 rows × 1 columns</p>\n",
       "</div>"
      ],
      "text/plain": [
       "      delivery_fee\n",
       "0             4000\n",
       "1            11000\n",
       "2             9000\n",
       "3            14000\n",
       "4             4000\n",
       "...            ...\n",
       "1071          4000\n",
       "1072          7000\n",
       "1073         15000\n",
       "1074          9000\n",
       "1075          9000\n",
       "\n",
       "[1076 rows x 1 columns]"
      ]
     },
     "execution_count": 9,
     "metadata": {},
     "output_type": "execute_result"
    }
   ],
   "source": [
    "## delivery_fee per order sudah terdapat di data\n",
    "df_csv[['delivery_fee']]"
   ]
  },
  {
   "cell_type": "code",
   "execution_count": 10,
   "metadata": {},
   "outputs": [
    {
     "data": {
      "text/html": [
       "<div>\n",
       "<style scoped>\n",
       "    .dataframe tbody tr th:only-of-type {\n",
       "        vertical-align: middle;\n",
       "    }\n",
       "\n",
       "    .dataframe tbody tr th {\n",
       "        vertical-align: top;\n",
       "    }\n",
       "\n",
       "    .dataframe thead th {\n",
       "        text-align: right;\n",
       "    }\n",
       "</style>\n",
       "<table border=\"1\" class=\"dataframe\">\n",
       "  <thead>\n",
       "    <tr style=\"text-align: right;\">\n",
       "      <th></th>\n",
       "      <th>delivery_fee</th>\n",
       "    </tr>\n",
       "  </thead>\n",
       "  <tbody>\n",
       "    <tr>\n",
       "      <th>count</th>\n",
       "      <td>1076.000000</td>\n",
       "    </tr>\n",
       "    <tr>\n",
       "      <th>mean</th>\n",
       "      <td>9252.788104</td>\n",
       "    </tr>\n",
       "    <tr>\n",
       "      <th>std</th>\n",
       "      <td>6723.595497</td>\n",
       "    </tr>\n",
       "    <tr>\n",
       "      <th>min</th>\n",
       "      <td>0.000000</td>\n",
       "    </tr>\n",
       "    <tr>\n",
       "      <th>25%</th>\n",
       "      <td>4000.000000</td>\n",
       "    </tr>\n",
       "    <tr>\n",
       "      <th>50%</th>\n",
       "      <td>9000.000000</td>\n",
       "    </tr>\n",
       "    <tr>\n",
       "      <th>75%</th>\n",
       "      <td>12000.000000</td>\n",
       "    </tr>\n",
       "    <tr>\n",
       "      <th>max</th>\n",
       "      <td>44000.000000</td>\n",
       "    </tr>\n",
       "  </tbody>\n",
       "</table>\n",
       "</div>"
      ],
      "text/plain": [
       "       delivery_fee\n",
       "count   1076.000000\n",
       "mean    9252.788104\n",
       "std     6723.595497\n",
       "min        0.000000\n",
       "25%     4000.000000\n",
       "50%     9000.000000\n",
       "75%    12000.000000\n",
       "max    44000.000000"
      ]
     },
     "execution_count": 10,
     "metadata": {},
     "output_type": "execute_result"
    }
   ],
   "source": [
    "## mendeskripsikan delivery_fee untuk memperoleh berbagai nilai yang akan dicari\n",
    "df_csv[['delivery_fee']].describe()"
   ]
  },
  {
   "cell_type": "code",
   "execution_count": 11,
   "metadata": {},
   "outputs": [
    {
     "data": {
      "text/plain": [
       "1076"
      ]
     },
     "execution_count": 11,
     "metadata": {},
     "output_type": "execute_result"
    }
   ],
   "source": [
    "## dapat juga dicari satu per satu\n",
    "## Count\n",
    "df_csv['delivery_fee'].count()"
   ]
  },
  {
   "cell_type": "code",
   "execution_count": 12,
   "metadata": {},
   "outputs": [
    {
     "data": {
      "text/plain": [
       "9252.788104089219"
      ]
     },
     "execution_count": 12,
     "metadata": {},
     "output_type": "execute_result"
    }
   ],
   "source": [
    "## Mean\n",
    "df_csv['delivery_fee'].mean()"
   ]
  },
  {
   "cell_type": "code",
   "execution_count": 13,
   "metadata": {},
   "outputs": [
    {
     "data": {
      "text/plain": [
       "6723.595496852201"
      ]
     },
     "execution_count": 13,
     "metadata": {},
     "output_type": "execute_result"
    }
   ],
   "source": [
    "## Standar Deviasi\n",
    "df_csv['delivery_fee'].std()"
   ]
  },
  {
   "cell_type": "code",
   "execution_count": 14,
   "metadata": {},
   "outputs": [
    {
     "data": {
      "text/plain": [
       "0"
      ]
     },
     "execution_count": 14,
     "metadata": {},
     "output_type": "execute_result"
    }
   ],
   "source": [
    "## Min\n",
    "df_csv['delivery_fee'].min()"
   ]
  },
  {
   "cell_type": "code",
   "execution_count": 15,
   "metadata": {},
   "outputs": [
    {
     "data": {
      "text/plain": [
       "44000"
      ]
     },
     "execution_count": 15,
     "metadata": {},
     "output_type": "execute_result"
    }
   ],
   "source": [
    "## Max\n",
    "df_csv['delivery_fee'].max()"
   ]
  },
  {
   "cell_type": "markdown",
   "metadata": {},
   "source": [
    "Nilai-nilai diatas merupakan nilai yang menerangkan delivery_fee tiap orderan (bukan per customer). Berdasarkan nilai tersebut maka diketahui bahwa rata-rata delivery_fee untuk per orderan adalah 9252.788104089219 dan minimal delivery_fee untuk per orderan adalah 0 (gratis ongkos kirim)."
   ]
  },
  {
   "cell_type": "markdown",
   "metadata": {},
   "source": [
    "## 5.Aggregation "
   ]
  },
  {
   "cell_type": "markdown",
   "metadata": {},
   "source": [
    "#### Delivery Fee for Each Customer (each cust_id)"
   ]
  },
  {
   "cell_type": "code",
   "execution_count": 16,
   "metadata": {},
   "outputs": [],
   "source": [
    "## Akan dicari rata-rata delivery_fee dan minimal delivery_fee restoran yang dibebankan pada customer, maka perlu dilakukan aggregation diantara cust_id dan delivery_fee yaitu dengan groupby."
   ]
  },
  {
   "cell_type": "code",
   "execution_count": 17,
   "metadata": {},
   "outputs": [],
   "source": [
    "## memyatukan atau grouping customer Id\n",
    "data_group_cust = df_csv.groupby('cust_id')"
   ]
  },
  {
   "cell_type": "code",
   "execution_count": 18,
   "metadata": {},
   "outputs": [
    {
     "data": {
      "text/plain": [
       "cust_id\n",
       "22895       2\n",
       "59565       3\n",
       "62551       3\n",
       "70701       3\n",
       "82690       5\n",
       "           ..\n",
       "1510407     1\n",
       "1514562    13\n",
       "1542763     4\n",
       "1544551     5\n",
       "1548571     6\n",
       "Name: cust_id, Length: 138, dtype: int64"
      ]
     },
     "execution_count": 18,
     "metadata": {},
     "output_type": "execute_result"
    }
   ],
   "source": [
    "data_group_cust['cust_id'].size()"
   ]
  },
  {
   "cell_type": "code",
   "execution_count": 19,
   "metadata": {},
   "outputs": [
    {
     "data": {
      "text/html": [
       "<div>\n",
       "<style scoped>\n",
       "    .dataframe tbody tr th:only-of-type {\n",
       "        vertical-align: middle;\n",
       "    }\n",
       "\n",
       "    .dataframe tbody tr th {\n",
       "        vertical-align: top;\n",
       "    }\n",
       "\n",
       "    .dataframe thead th {\n",
       "        text-align: right;\n",
       "    }\n",
       "</style>\n",
       "<table border=\"1\" class=\"dataframe\">\n",
       "  <thead>\n",
       "    <tr style=\"text-align: right;\">\n",
       "      <th></th>\n",
       "      <th>cust_id</th>\n",
       "      <th>delivery_fee</th>\n",
       "    </tr>\n",
       "  </thead>\n",
       "  <tbody>\n",
       "    <tr>\n",
       "      <th>0</th>\n",
       "      <td>22895</td>\n",
       "      <td>9000.000000</td>\n",
       "    </tr>\n",
       "    <tr>\n",
       "      <th>1</th>\n",
       "      <td>59565</td>\n",
       "      <td>11333.333333</td>\n",
       "    </tr>\n",
       "    <tr>\n",
       "      <th>2</th>\n",
       "      <td>62551</td>\n",
       "      <td>8333.333333</td>\n",
       "    </tr>\n",
       "    <tr>\n",
       "      <th>3</th>\n",
       "      <td>70701</td>\n",
       "      <td>9000.000000</td>\n",
       "    </tr>\n",
       "    <tr>\n",
       "      <th>4</th>\n",
       "      <td>82690</td>\n",
       "      <td>2000.000000</td>\n",
       "    </tr>\n",
       "    <tr>\n",
       "      <th>...</th>\n",
       "      <td>...</td>\n",
       "      <td>...</td>\n",
       "    </tr>\n",
       "    <tr>\n",
       "      <th>133</th>\n",
       "      <td>1510407</td>\n",
       "      <td>16000.000000</td>\n",
       "    </tr>\n",
       "    <tr>\n",
       "      <th>134</th>\n",
       "      <td>1514562</td>\n",
       "      <td>10538.461538</td>\n",
       "    </tr>\n",
       "    <tr>\n",
       "      <th>135</th>\n",
       "      <td>1542763</td>\n",
       "      <td>5500.000000</td>\n",
       "    </tr>\n",
       "    <tr>\n",
       "      <th>136</th>\n",
       "      <td>1544551</td>\n",
       "      <td>11600.000000</td>\n",
       "    </tr>\n",
       "    <tr>\n",
       "      <th>137</th>\n",
       "      <td>1548571</td>\n",
       "      <td>8833.333333</td>\n",
       "    </tr>\n",
       "  </tbody>\n",
       "</table>\n",
       "<p>138 rows × 2 columns</p>\n",
       "</div>"
      ],
      "text/plain": [
       "     cust_id  delivery_fee\n",
       "0      22895   9000.000000\n",
       "1      59565  11333.333333\n",
       "2      62551   8333.333333\n",
       "3      70701   9000.000000\n",
       "4      82690   2000.000000\n",
       "..       ...           ...\n",
       "133  1510407  16000.000000\n",
       "134  1514562  10538.461538\n",
       "135  1542763   5500.000000\n",
       "136  1544551  11600.000000\n",
       "137  1548571   8833.333333\n",
       "\n",
       "[138 rows x 2 columns]"
      ]
     },
     "execution_count": 19,
     "metadata": {},
     "output_type": "execute_result"
    }
   ],
   "source": [
    "## memyatukan atau grouping cust_id dengan delivery_fee\n",
    "data_group_id = data_group_cust['delivery_fee'].mean().reset_index()\n",
    "data_group_id"
   ]
  },
  {
   "cell_type": "code",
   "execution_count": 20,
   "metadata": {},
   "outputs": [
    {
     "data": {
      "text/html": [
       "<div>\n",
       "<style scoped>\n",
       "    .dataframe tbody tr th:only-of-type {\n",
       "        vertical-align: middle;\n",
       "    }\n",
       "\n",
       "    .dataframe tbody tr th {\n",
       "        vertical-align: top;\n",
       "    }\n",
       "\n",
       "    .dataframe thead th {\n",
       "        text-align: right;\n",
       "    }\n",
       "</style>\n",
       "<table border=\"1\" class=\"dataframe\">\n",
       "  <thead>\n",
       "    <tr style=\"text-align: right;\">\n",
       "      <th></th>\n",
       "      <th>delivery_fee</th>\n",
       "    </tr>\n",
       "  </thead>\n",
       "  <tbody>\n",
       "    <tr>\n",
       "      <th>count</th>\n",
       "      <td>138.000000</td>\n",
       "    </tr>\n",
       "    <tr>\n",
       "      <th>mean</th>\n",
       "      <td>8879.748957</td>\n",
       "    </tr>\n",
       "    <tr>\n",
       "      <th>std</th>\n",
       "      <td>4964.288862</td>\n",
       "    </tr>\n",
       "    <tr>\n",
       "      <th>min</th>\n",
       "      <td>0.000000</td>\n",
       "    </tr>\n",
       "    <tr>\n",
       "      <th>25%</th>\n",
       "      <td>5446.428571</td>\n",
       "    </tr>\n",
       "    <tr>\n",
       "      <th>50%</th>\n",
       "      <td>8916.666667</td>\n",
       "    </tr>\n",
       "    <tr>\n",
       "      <th>75%</th>\n",
       "      <td>10937.500000</td>\n",
       "    </tr>\n",
       "    <tr>\n",
       "      <th>max</th>\n",
       "      <td>30000.000000</td>\n",
       "    </tr>\n",
       "  </tbody>\n",
       "</table>\n",
       "</div>"
      ],
      "text/plain": [
       "       delivery_fee\n",
       "count    138.000000\n",
       "mean    8879.748957\n",
       "std     4964.288862\n",
       "min        0.000000\n",
       "25%     5446.428571\n",
       "50%     8916.666667\n",
       "75%    10937.500000\n",
       "max    30000.000000"
      ]
     },
     "execution_count": 20,
     "metadata": {},
     "output_type": "execute_result"
    }
   ],
   "source": [
    "## mendeskripsikan delivery_fee berdasarkan hasil group_id\n",
    "data_group_id[['delivery_fee']].describe()"
   ]
  },
  {
   "cell_type": "code",
   "execution_count": 21,
   "metadata": {},
   "outputs": [
    {
     "data": {
      "text/plain": [
       "138"
      ]
     },
     "execution_count": 21,
     "metadata": {},
     "output_type": "execute_result"
    }
   ],
   "source": [
    "## dapat juga dicari satu per satu\n",
    "## Count untuk data_group_id\n",
    "data_group_id['delivery_fee'].count()"
   ]
  },
  {
   "cell_type": "code",
   "execution_count": 22,
   "metadata": {},
   "outputs": [
    {
     "data": {
      "text/plain": [
       "8879.748956751362"
      ]
     },
     "execution_count": 22,
     "metadata": {},
     "output_type": "execute_result"
    }
   ],
   "source": [
    "## Mean untuk data_group_id\n",
    "data_group_id['delivery_fee'].mean()"
   ]
  },
  {
   "cell_type": "code",
   "execution_count": 23,
   "metadata": {},
   "outputs": [
    {
     "data": {
      "text/plain": [
       "4964.288861644278"
      ]
     },
     "execution_count": 23,
     "metadata": {},
     "output_type": "execute_result"
    }
   ],
   "source": [
    "## Standar Deviasi untuk data_group_id\n",
    "data_group_id['delivery_fee'].std()"
   ]
  },
  {
   "cell_type": "code",
   "execution_count": 24,
   "metadata": {},
   "outputs": [
    {
     "data": {
      "text/plain": [
       "0.0"
      ]
     },
     "execution_count": 24,
     "metadata": {},
     "output_type": "execute_result"
    }
   ],
   "source": [
    "## Min untuk data_group_id\n",
    "data_group_id['delivery_fee'].min()"
   ]
  },
  {
   "cell_type": "code",
   "execution_count": 25,
   "metadata": {},
   "outputs": [
    {
     "data": {
      "text/plain": [
       "30000.0"
      ]
     },
     "execution_count": 25,
     "metadata": {},
     "output_type": "execute_result"
    }
   ],
   "source": [
    "## Max untuk data_group_id\n",
    "data_group_id['delivery_fee'].max()"
   ]
  },
  {
   "cell_type": "markdown",
   "metadata": {},
   "source": [
    "Nilai-nilai diatas merupakan nilai yang menerangkan delivery_fee tiap per customer. Berdasarkan nilai tersebut maka diketahui bahwa rata-rata delivery_fee yang dibebankan pada tiap customer adalah 8879.748956751362 dan minimal delivery_fee untuk tiap customer adalah 0 (gratis ongkos kirim)."
   ]
  }
 ],
 "metadata": {
  "kernelspec": {
   "display_name": "Python 3",
   "language": "python",
   "name": "python3"
  },
  "language_info": {
   "codemirror_mode": {
    "name": "ipython",
    "version": 3
   },
   "file_extension": ".py",
   "mimetype": "text/x-python",
   "name": "python",
   "nbconvert_exporter": "python",
   "pygments_lexer": "ipython3",
   "version": "3.8.3"
  }
 },
 "nbformat": 4,
 "nbformat_minor": 4
}
